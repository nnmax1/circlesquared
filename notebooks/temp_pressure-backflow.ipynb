{
 "cells": [
  {
   "cell_type": "code",
   "execution_count": 73,
   "metadata": {},
   "outputs": [],
   "source": [
    "# get all csv and store as pandas dataframe\n",
    "# What affects backflow the most: temperature or pressure\n",
    "import pandas as pd\n",
    "import matplotlib.pyplot as plt\n",
    "import numpy as np\n",
    "import random\n",
    "# get data from backflowdata.csv\n",
    "chunk = pd.read_csv('../data/backflow_data.csv',chunksize=1001, sep=\",\")\n",
    "pd_df = pd.concat(chunk)\n",
    "df = pd.DataFrame(pd_df)\n",
    "data = df.values.tolist()\n"
   ]
  },
  {
   "cell_type": "code",
   "execution_count": 74,
   "metadata": {},
   "outputs": [],
   "source": [
    "# function to sort data by id\n",
    "def id_sort(arr, ascending=True):\n",
    "    n = len(arr)  \n",
    "    for i in range(n-1):  \n",
    "        for j in range(0, n-i-1):\n",
    "           # compare ID and swap if greater\n",
    "            if ascending:\n",
    "                if arr[j][0] > arr[j + 1][0] :\n",
    "                    arr[j], arr[j + 1] = arr[j + 1], arr[j]\n",
    "            if not ascending: \n",
    "                if arr[j][0] < arr[j + 1][0] :\n",
    "                    arr[j], arr[j + 1] = arr[j + 1], arr[j]\n",
    "\n"
   ]
  },
  {
   "cell_type": "code",
   "execution_count": 84,
   "metadata": {},
   "outputs": [],
   "source": [
    "# return avgs of data for each interval\n",
    "# returns a dictionary\n",
    "def getAvgData(data, interval, isAscending):\n",
    "    id_sort(data, ascending=isAscending)\n",
    "    avgs = {\"avg_temperature\":[], \"avg_pressure\":[], \"avg_backflow\":[]}\n",
    "    counter=0\n",
    "    totals = [0,0,0]\n",
    "    for temp in data:\n",
    "        # total temp\n",
    "        totals[0] = totals[0] + float(temp[1].split(\"%\")[0])\n",
    "        # total pressure\n",
    "        totals[1] = totals[1] + float(temp[2].split(\"%\")[0])\n",
    "        # total backflow\n",
    "        totals[2] = totals[2] + float(temp[3].split(\"%\")[0])\n",
    "        counter = counter + 1\n",
    "        if counter % interval == 0:\n",
    "            avgs['avg_temperature'].append(totals[0]/counter)\n",
    "            avgs['avg_pressure'].append(totals[1]/counter)\n",
    "            avgs['avg_backflow'].append(totals[2]/counter)\n",
    "            # reset totals and counter\n",
    "            totals[0]=0\n",
    "            totals[1]=0\n",
    "            totals[2]=0\n",
    "            counter =0\n",
    "    return avgs\n"
   ]
  },
  {
   "cell_type": "code",
   "execution_count": 139,
   "metadata": {},
   "outputs": [],
   "source": [
    "# returns highest value (specify row and number of dayws)\n",
    "def highestValue(data, days, row=\"Temp\"):\n",
    "    columnIndex = 1\n",
    "    maxVal = 0\n",
    "    if row == \"temp\": \n",
    "        maxVal = float(data[0][1].split(\"%\")[0])\n",
    "        columnIndex = 1\n",
    "    if row == \"pressure\": \n",
    "        maxVal = float(data[0][2].split(\"%\")[0])\n",
    "        columnIndex = 2\n",
    "    if row == \"backflow\": \n",
    "        maxVal = float(data[0][3].split(\"%\")[0])\n",
    "        columnIndex = 3\n",
    "    # search for max val\n",
    "    for i in range(0, days-1):\n",
    "        num = float(data[i][columnIndex].split(\"%\")[0])\n",
    "        if maxVal < num:\n",
    "            maxVal = num\n",
    "    return maxVal\n",
    "# returns lowest value (specify row and number of dayws)\n",
    "def lowestValue(data, days, row=\"Temp\"):\n",
    "    columnIndex = 1\n",
    "    lowVal = 0\n",
    "    if row == \"temp\": \n",
    "        lowVal = float(data[0][1].split(\"%\")[0])\n",
    "        columnIndex = 1\n",
    "    if row == \"pressure\": \n",
    "        lowVal = float(data[0][2].split(\"%\")[0])\n",
    "        columnIndex = 2\n",
    "    if row == \"backflow\": \n",
    "        lowVal = float(data[0][3].split(\"%\")[0])\n",
    "        columnIndex = 3\n",
    "    # search for max val\n",
    "    for i in range(0, days-1):\n",
    "        num = float(data[i][columnIndex].split(\"%\")[0])\n",
    "        if lowVal > num:\n",
    "            lowVal = num\n",
    "    return lowVal\n",
    "\n",
    "threedayavg = getAvgData(data, 3, True)\n"
   ]
  },
  {
   "cell_type": "code",
   "execution_count": 91,
   "metadata": {},
   "outputs": [
    {
     "name": "stdout",
     "output_type": "stream",
     "text": [
      "[1, '0.44%', '1.28%', '5.23%']\n"
     ]
    }
   ],
   "source": [
    "# 3 day average (and... average of x number of days)\n",
    "# today / yesterday (and... today / x number of days ago)\n",
    "# today value / highest value of the last x number of days \n",
    "# today value / lowest value of the last x number of days \n",
    "\n",
    "# out of the past 10 days, number of days data was higher than the day before.\n",
    "# out of the past 10 days, number of days data was lower than the day before.\n",
    "# number of days in a row that data was rising.\n",
    "# number of days in a row that data was falling\n",
    "# day of the week \n",
    "# today / average of prior x number of days\n",
    "print(data[0])"
   ]
  },
  {
   "cell_type": "code",
   "execution_count": 103,
   "metadata": {},
   "outputs": [],
   "source": [
    "# today - yesterday  (and... today / x number of days ago)\n",
    "def todayMinusYesterday(data):\n",
    "    diff = {\"temp\":[] , \"pressure\":[] , \"backflow\":[]}\n",
    "    for i in range(0, len(data)-2):\n",
    "        # today - yesterday\n",
    "        temperature_diff =float(data[i][1].split(\"%\")[0]) -float(data[i+1][1].split(\"%\")[0] )\n",
    "        pressure_diff =float(data[i][2].split(\"%\")[0]) -float(data[i+1][2].split(\"%\")[0] )\n",
    "        backflow_diff = float(data[i][3].split(\"%\")[0]) -float(data[i+1][3].split(\"%\")[0] )\n",
    "        diff['temp'].append(temperature_diff)\n",
    "        diff['pressure'].append(pressure_diff)\n",
    "        diff['backflow'].append(backflow_diff)\n",
    "    return diff\n",
    "\n",
    "# todayMinusYesterday(data)"
   ]
  },
  {
   "cell_type": "code",
   "execution_count": 135,
   "metadata": {},
   "outputs": [
    {
     "data": {
      "text/plain": [
       "11.44"
      ]
     },
     "execution_count": 135,
     "metadata": {},
     "output_type": "execute_result"
    }
   ],
   "source": [
    "# today value / highest value of the last x number of days \n",
    "# today value / lowest value of the last x number of days \n",
    "\n",
    "\n",
    "highestValue(data, 10, row=\"backflow\")\n",
    "    \n",
    "\n",
    "    \n",
    "    "
   ]
  },
  {
   "cell_type": "code",
   "execution_count": null,
   "metadata": {},
   "outputs": [],
   "source": []
  },
  {
   "cell_type": "code",
   "execution_count": null,
   "metadata": {},
   "outputs": [],
   "source": []
  }
 ],
 "metadata": {
  "kernelspec": {
   "display_name": "Python 3",
   "language": "python",
   "name": "python3"
  },
  "language_info": {
   "codemirror_mode": {
    "name": "ipython",
    "version": 3
   },
   "file_extension": ".py",
   "mimetype": "text/x-python",
   "name": "python",
   "nbconvert_exporter": "python",
   "pygments_lexer": "ipython3",
   "version": "3.7.6"
  }
 },
 "nbformat": 4,
 "nbformat_minor": 4
}
