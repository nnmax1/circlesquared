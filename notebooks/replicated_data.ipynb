{
 "cells": [
  {
   "cell_type": "code",
   "execution_count": 3,
   "metadata": {},
   "outputs": [],
   "source": [
    "import pandas as pd\n",
    "# get all csv and store as pandas dataframe\n",
    "chunk = pd.read_csv('../data/backflow_data.csv',chunksize=1001, sep=\",\")\n",
    "pd_df = pd.concat(chunk)\n",
    "df = pd.DataFrame(pd_df)"
   ]
  },
  {
   "cell_type": "code",
   "execution_count": 4,
   "metadata": {},
   "outputs": [],
   "source": [
    "#Replicate backflow data in Excel sheet\n",
    "\n",
    "def backflowData():\n",
    "    total =0\n",
    "    i =0\n",
    "    avgs = []\n",
    "    restofdata =[]\n",
    "    testdata=[]\n",
    "    for temp in df['Backflow']:\n",
    "        total = total + float(temp.split(\"%\")[0])\n",
    "        i = i+1\n",
    "        if i == 190: \n",
    "            avgs.append(total/i)\n",
    "            total =0\n",
    "        if i > 99:\n",
    "            restofdata.append(float(temp.split(\"%\")[0]))\n",
    "        if i > 98: \n",
    "            testdata.append(float(temp.split(\"%\")[0]))\n",
    "    j =0\n",
    "    total =0\n",
    "    for data in restofdata:\n",
    "        total = total + data\n",
    "        j = j+1\n",
    "        if j % 100 ==0:\n",
    "            avgs.append(total/100)\n",
    "            total =0\n",
    "    k =0\n",
    "    total=0\n",
    "    for d in testdata:\n",
    "        total = total + d\n",
    "        k = k+1\n",
    "        if k == 801:\n",
    "            avgs.append(total/801)\n",
    "    return avgs"
   ]
  },
  {
   "cell_type": "code",
   "execution_count": 6,
   "metadata": {},
   "outputs": [
    {
     "name": "stdout",
     "output_type": "stream",
     "text": [
      "BACKFLOW DATA: \n",
      "AVERAGE (D2 to D192 in the excel sheet) =  13.017473684210522\n",
      "AVERAGE (D101 to D200 in the excel sheet) =  1.202399999999999\n",
      "AVERAGE (D201 to D300 in the excel sheet) =  -3.744000000000001\n",
      "AVERAGE (D301 to D400 in the excel sheet) =  -0.9768000000000001\n",
      "AVERAGE (D401 to D500 in the excel sheet) =  3.125199999999999\n",
      "AVERAGE (D501 to D600 in the excel sheet) =  -2.8387000000000007\n",
      "AVERAGE (D601 to D700 in the excel sheet) =  -0.2355999999999999\n",
      "AVERAGE (D701 to D800 in the excel sheet) =  -1.6634000000000042\n",
      "AVERAGE (D801 to D900 in the excel sheet) =  -1.1704\n",
      "AVERAGE (D100 to D901 in the excel sheet) =  -0.7566916354556803\n",
      "F2 to F7 in the excel sheet =  15.856173684210523\n",
      "F3 to F8 in the excel sheet =  1.4379999999999988\n",
      "F4 to F9 in the excel sheet =  -2.080599999999997\n",
      "F5 to F10 in the excel sheet =  0.1936\n",
      "F6 to F11 in the excel sheet =  3.8818916354556796\n"
     ]
    }
   ],
   "source": [
    "avgs = backflowData()\n",
    "print(\"BACKFLOW DATA: \")\n",
    "print(\"AVERAGE (D2 to D192 in the excel sheet) =  \" + str(avgs[0]))\n",
    "print(\"AVERAGE (D101 to D200 in the excel sheet) =  \" + str(avgs[1]))\n",
    "print(\"AVERAGE (D201 to D300 in the excel sheet) =  \" + str(avgs[2]))\n",
    "print(\"AVERAGE (D301 to D400 in the excel sheet) =  \" + str(avgs[3]))\n",
    "print(\"AVERAGE (D401 to D500 in the excel sheet) =  \" + str(avgs[4]))\n",
    "print(\"AVERAGE (D501 to D600 in the excel sheet) =  \" + str(avgs[5]))\n",
    "print(\"AVERAGE (D601 to D700 in the excel sheet) =  \" + str(avgs[6]))\n",
    "print(\"AVERAGE (D701 to D800 in the excel sheet) =  \" + str(avgs[7]))\n",
    "print(\"AVERAGE (D801 to D900 in the excel sheet) =  \" + str(avgs[8]))\n",
    "print(\"AVERAGE (D100 to D901 in the excel sheet) =  \" + str(avgs[len(avgs)-1]))\n",
    "f2f7 = (avgs[0] - avgs[5]) \n",
    "f3f8 = avgs[1]-avgs[6]\n",
    "f4f9= avgs[2]-avgs[7]\n",
    "f5f10 = avgs[3]-avgs[8]\n",
    "f6f11 = avgs[4] -avgs[len(avgs)-1]\n",
    "print(\"F2 to F7 in the excel sheet =  \" + str(f2f7))\n",
    "print(\"F3 to F8 in the excel sheet =  \" + str(f3f8))\n",
    "print(\"F4 to F9 in the excel sheet =  \" + str(f4f9))\n",
    "print(\"F5 to F10 in the excel sheet =  \" + str(f5f10))\n",
    "print(\"F6 to F11 in the excel sheet =  \" + str(f6f11))"
   ]
  }
 ],
 "metadata": {
  "kernelspec": {
   "display_name": "Python 3",
   "language": "python",
   "name": "python3"
  },
  "language_info": {
   "codemirror_mode": {
    "name": "ipython",
    "version": 3
   },
   "file_extension": ".py",
   "mimetype": "text/x-python",
   "name": "python",
   "nbconvert_exporter": "python",
   "pygments_lexer": "ipython3",
   "version": "3.7.6"
  }
 },
 "nbformat": 4,
 "nbformat_minor": 4
}
