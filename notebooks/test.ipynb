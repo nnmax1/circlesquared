{
 "cells": [
  {
   "cell_type": "code",
   "execution_count": 2,
   "metadata": {},
   "outputs": [],
   "source": [
    "import pandas as pd"
   ]
  },
  {
   "cell_type": "code",
   "execution_count": 15,
   "metadata": {
    "scrolled": true
   },
   "outputs": [],
   "source": [
    "# get all csv and store as pandas dataframe\n",
    "chunk = pd.read_csv('../data/data.csv',chunksize=1001, sep=\",\")\n",
    "pd_df = pd.concat(chunk)\n",
    "df = pd.DataFrame(pd_df)"
   ]
  },
  {
   "cell_type": "code",
   "execution_count": 46,
   "metadata": {},
   "outputs": [
    {
     "data": {
      "text/plain": [
       "['-24.766666666666648%',\n",
       " '3.393333333333332%',\n",
       " '11.093333333333332%',\n",
       " '7.379999999999997%',\n",
       " '9.393333333333333%',\n",
       " '10.653333333333332%']"
      ]
     },
     "execution_count": 46,
     "metadata": {},
     "output_type": "execute_result"
    }
   ],
   "source": [
    "# avg temps\n",
    "def getAvgTemps(df):\n",
    "    avgs = []\n",
    "    counter = 0\n",
    "    total = 0\n",
    "    for temp in df['Temp']:\n",
    "        total = total + float(temp.split(\"%\")[0])\n",
    "        counter = counter +1\n",
    "        # avg temperatures for each 150 rows\n",
    "        if counter % 150 == 0:\n",
    "            avg = total / counter \n",
    "            # add a percent sign to each avg\n",
    "            avgs.append(str(avg*100)+\"%\")\n",
    "            avg = 0\n",
    "            counter = 0\n",
    "            total =0\n",
    "    return avgs\n",
    "getAvgTemps(df)"
   ]
  },
  {
   "cell_type": "code",
   "execution_count": 39,
   "metadata": {},
   "outputs": [
    {
     "name": "stdout",
     "output_type": "stream",
     "text": [
      "['2686.2999999999997%', '33.56666666666668%', '-208.81111111111105%', '-161.8222222222222%', '-637.2555555555556%', '473.1999999999998%', '29.888888888888854%', '-158.43333333333342%', '3.277777777777931%', '-120.04444444444447%', '2616.5444444444433%']\n"
     ]
    }
   ],
   "source": [
    "# avg backflows\n",
    "def getAvgBackflows(df):\n",
    "    avgs = []\n",
    "    counter = 0\n",
    "    total = 0\n",
    "    for backflow in df['Backflow']:\n",
    "        total = total + float(backflow.split(\"%\")[0])\n",
    "        counter = counter +1\n",
    "        # avg temperatures for each 90 rows\n",
    "        if counter % 90 == 0:\n",
    "            avg = total / counter \n",
    "            avgs.append(str(avg*100)+\"%\")\n",
    "            avg = 0\n",
    "            counter = 0\n",
    "            total =0\n",
    "    return avgs\n",
    "avgbackflows = getAvgBackflows(df)\n",
    "print(avgbackflows)"
   ]
  },
  {
   "cell_type": "code",
   "execution_count": 38,
   "metadata": {},
   "outputs": [
    {
     "name": "stdout",
     "output_type": "stream",
     "text": [
      "['-68.0%', '-68.0%', '-68.0%', '-68.0%', '-68.0%']\n"
     ]
    }
   ],
   "source": [
    "# avg of avg backflows (last column in provided excel sheet)\n",
    "def getAvgAvgBackflows(avgBackflows):\n",
    "    avgs = []\n",
    "    counter = 0\n",
    "    total = 0\n",
    "    for avg in avgBackflows:\n",
    "        total = total + float(temp.split(\"%\")[0])\n",
    "        counter = counter +1\n",
    "        # avg for each 2 avg backflows\n",
    "        if counter % 2 == 0:\n",
    "            avg = total / counter \n",
    "            avgs.append(str(avg*100)+\"%\")\n",
    "            avg = 0\n",
    "            counter = 0\n",
    "            total =0\n",
    "    return avgs\n",
    "\n",
    "avgAvgBackflows = getAvgAvgBackflows(avgbackflows)\n",
    "print(avgAvgBackflows)"
   ]
  }
 ],
 "metadata": {
  "kernelspec": {
   "display_name": "Python 3",
   "language": "python",
   "name": "python3"
  },
  "language_info": {
   "codemirror_mode": {
    "name": "ipython",
    "version": 3
   },
   "file_extension": ".py",
   "mimetype": "text/x-python",
   "name": "python",
   "nbconvert_exporter": "python",
   "pygments_lexer": "ipython3",
   "version": "3.8.5"
  },
  "metadata": {
   "interpreter": {
    "hash": "266427041442926d17ed610598b4a3a84a45a6374e4ff7ede5ec83c918e0c006"
   }
  }
 },
 "nbformat": 4,
 "nbformat_minor": 2
}
