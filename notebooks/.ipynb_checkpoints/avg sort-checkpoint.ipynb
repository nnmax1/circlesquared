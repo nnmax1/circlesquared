{
 "cells": [
  {
   "cell_type": "code",
   "execution_count": 31,
   "metadata": {},
   "outputs": [],
   "source": [
    "import pandas as pd\n",
    "import matplotlib.pyplot as plt\n",
    "import numpy as np\n",
    "import random\n",
    "# get data from backflowdata.csv\n",
    "chunk = pd.read_csv('../data/backflow_data.csv',chunksize=1001, sep=\",\")\n",
    "pd_df = pd.concat(chunk)\n",
    "df = pd.DataFrame(pd_df)\n",
    "data = df.values.tolist()\n",
    "\n",
    "\n",
    "def data_sort(arr, column):\n",
    "    col =0\n",
    "    if column=='t': col=1\n",
    "    elif column =='p':col=2\n",
    "    elif column=='b': col=3\n",
    "    n = len(arr)  \n",
    "    for i in range(n-1):  \n",
    "        for j in range(0, n-i-1):\n",
    "           # compare and swap if greater\n",
    "            if ascending:\n",
    "                if float(arr[j][col].split(\"%\")[0]) > float(arr[j + 1][col].split(\"%\")[0]) :\n",
    "                    arr[j], arr[j + 1] = arr[j + 1], arr[j]\n",
    "            if not ascending: \n",
    "                if float(arr[j][col].split(\"%\")[0]) < float(arr[j + 1][col].split(\"%\")[0]) :\n",
    "                    arr[j], arr[j + 1] = arr[j + 1], arr[j]\n",
    "                    \n"
   ]
  },
  {
   "cell_type": "code",
   "execution_count": 32,
   "metadata": {},
   "outputs": [
    {
     "ename": "TypeError",
     "evalue": "data_sort() got an unexpected keyword argument 'ascending'",
     "output_type": "error",
     "traceback": [
      "\u001b[1;31m---------------------------------------------------------------------------\u001b[0m",
      "\u001b[1;31mTypeError\u001b[0m                                 Traceback (most recent call last)",
      "\u001b[1;32m<ipython-input-32-ea227c04b5c1>\u001b[0m in \u001b[0;36m<module>\u001b[1;34m\u001b[0m\n\u001b[0;32m     20\u001b[0m \u001b[1;33m\u001b[0m\u001b[0m\n\u001b[0;32m     21\u001b[0m \u001b[1;33m\u001b[0m\u001b[0m\n\u001b[1;32m---> 22\u001b[1;33m \u001b[0mr\u001b[0m \u001b[1;33m=\u001b[0m \u001b[0mrank_sort\u001b[0m\u001b[1;33m(\u001b[0m\u001b[0mdata\u001b[0m\u001b[1;33m)\u001b[0m\u001b[1;33m\u001b[0m\u001b[1;33m\u001b[0m\u001b[0m\n\u001b[0m\u001b[0;32m     23\u001b[0m \u001b[0mprint\u001b[0m\u001b[1;33m(\u001b[0m\u001b[0mr\u001b[0m\u001b[1;33m)\u001b[0m\u001b[1;33m\u001b[0m\u001b[1;33m\u001b[0m\u001b[0m\n",
      "\u001b[1;32m<ipython-input-32-ea227c04b5c1>\u001b[0m in \u001b[0;36mrank_sort\u001b[1;34m(data)\u001b[0m\n\u001b[0;32m      5\u001b[0m     \u001b[0maveSort\u001b[0m \u001b[1;33m=\u001b[0m\u001b[1;33m[\u001b[0m\u001b[1;33m]\u001b[0m\u001b[1;33m\u001b[0m\u001b[1;33m\u001b[0m\u001b[0m\n\u001b[0;32m      6\u001b[0m     \u001b[1;31m# sort by temperatue, then insert 'sort rank' into tsort list\u001b[0m\u001b[1;33m\u001b[0m\u001b[1;33m\u001b[0m\u001b[1;33m\u001b[0m\u001b[0m\n\u001b[1;32m----> 7\u001b[1;33m     \u001b[0mdata_sort\u001b[0m\u001b[1;33m(\u001b[0m\u001b[0mdata\u001b[0m\u001b[1;33m,\u001b[0m \u001b[0mascending\u001b[0m\u001b[1;33m=\u001b[0m\u001b[1;32mTrue\u001b[0m\u001b[1;33m,\u001b[0m \u001b[0mcol\u001b[0m\u001b[1;33m=\u001b[0m\u001b[1;34m't'\u001b[0m\u001b[1;33m)\u001b[0m\u001b[1;33m\u001b[0m\u001b[1;33m\u001b[0m\u001b[0m\n\u001b[0m\u001b[0;32m      8\u001b[0m     \u001b[1;32mfor\u001b[0m \u001b[0mi\u001b[0m  \u001b[1;32min\u001b[0m \u001b[0mrange\u001b[0m\u001b[1;33m(\u001b[0m\u001b[1;36m0\u001b[0m\u001b[1;33m,\u001b[0m \u001b[0mlen\u001b[0m\u001b[1;33m(\u001b[0m\u001b[0mdata\u001b[0m\u001b[1;33m)\u001b[0m\u001b[1;33m)\u001b[0m\u001b[1;33m:\u001b[0m\u001b[1;33m\u001b[0m\u001b[1;33m\u001b[0m\u001b[0m\n\u001b[0;32m      9\u001b[0m         \u001b[0mtsort\u001b[0m\u001b[1;33m.\u001b[0m\u001b[0mappend\u001b[0m\u001b[1;33m(\u001b[0m\u001b[0mdata\u001b[0m\u001b[1;33m[\u001b[0m\u001b[0mi\u001b[0m\u001b[1;33m]\u001b[0m\u001b[1;33m[\u001b[0m\u001b[1;36m0\u001b[0m\u001b[1;33m]\u001b[0m\u001b[1;33m)\u001b[0m\u001b[1;33m\u001b[0m\u001b[1;33m\u001b[0m\u001b[0m\n",
      "\u001b[1;31mTypeError\u001b[0m: data_sort() got an unexpected keyword argument 'ascending'"
     ]
    }
   ],
   "source": [
    "def rank_sort(data):\n",
    "    psort =[]\n",
    "    tsort=[]\n",
    "    bsort=[]\n",
    "    aveSort =[]\n",
    "    # sort by temperatue, then insert 'sort rank' into tsort list\n",
    "    data_sort(data, ascending=True col='t')\n",
    "    for i  in range(0, len(data)):\n",
    "        tsort.append(data[i][0])\n",
    "    data_sort(data, ascending=True, col='p')\n",
    "    for j  in range(0, len(data)):\n",
    "        psort.append(data[j][0])\n",
    "    data_sort(data, ascending=True, col='b')\n",
    "    for k  in range(0, len(data)):\n",
    "        psort.append(data[k][0])\n",
    "    result = {\"TSort\":tsort, \"psort\":psort,\"bsort\": bsort, \"aveSort\":aveSort}\n",
    "\n",
    "\n",
    "    return result\n",
    "            \n",
    "    \n",
    "r = rank_sort(data)\n",
    "print(r)"
   ]
  },
  {
   "cell_type": "code",
   "execution_count": null,
   "metadata": {},
   "outputs": [],
   "source": []
  },
  {
   "cell_type": "code",
   "execution_count": null,
   "metadata": {},
   "outputs": [],
   "source": []
  }
 ],
 "metadata": {
  "kernelspec": {
   "display_name": "Python 3",
   "language": "python",
   "name": "python3"
  },
  "language_info": {
   "codemirror_mode": {
    "name": "ipython",
    "version": 3
   },
   "file_extension": ".py",
   "mimetype": "text/x-python",
   "name": "python",
   "nbconvert_exporter": "python",
   "pygments_lexer": "ipython3",
   "version": "3.7.6"
  }
 },
 "nbformat": 4,
 "nbformat_minor": 4
}
