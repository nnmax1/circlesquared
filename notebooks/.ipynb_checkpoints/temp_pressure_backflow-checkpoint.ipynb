{
 "cells": [
  {
   "cell_type": "code",
   "execution_count": 6,
   "metadata": {},
   "outputs": [],
   "source": [
    "# What affects backflow the most: temperature or pressure\n",
    "import pandas as pd\n",
    "import matplotlib.pyplot as plt\n",
    "import numpy as np\n",
    "import random"
   ]
  },
  {
   "cell_type": "code",
   "execution_count": 7,
   "metadata": {
    "scrolled": true
   },
   "outputs": [],
   "source": [
    "# get all csv and store as pandas dataframe\n",
    "chunk = pd.read_csv('../data/backflow_data.csv',chunksize=1001, sep=\",\")\n",
    "pd_df = pd.concat(chunk)\n",
    "df = pd.DataFrame(pd_df)"
   ]
  },
  {
   "cell_type": "code",
   "execution_count": 3,
   "metadata": {},
   "outputs": [],
   "source": [
    "# quick sort implementation\n",
    "def quickSort(arr, ascending=True):\n",
    "    if arr == []:\n",
    "        return arr\n",
    "    smaller, equal, larger = [], [], []\n",
    "    pivot = arr[random.randint(0, len(arr) - 1)]\n",
    "    for x in arr:\n",
    "        if x < pivot: smaller.append(x)\n",
    "        elif x == pivot: equal.append(x)\n",
    "        else: larger.append(x)\n",
    "    larger = quickSort(larger, ascending=ascending)\n",
    "    smaller = quickSort(smaller, ascending=ascending)\n",
    "    if ascending:\n",
    "        final = smaller + equal + larger\n",
    "    else:\n",
    "        final = larger + equal + smaller\n",
    "    return final"
   ]
  },
  {
   "cell_type": "code",
   "execution_count": 4,
   "metadata": {},
   "outputs": [],
   "source": [
    "# return avgs of data for each interval\n",
    "# adjusted to replicate data from spreadsheet\n",
    "def getAvgData(data, interval, isAscending=True):\n",
    "    avgs = []\n",
    "    desiredInterval = interval\n",
    "    counter=0\n",
    "    intervalCounter = 0\n",
    "    total = 0\n",
    "    for temp in data:\n",
    "        total = total + float(temp.split(\"%\")[0])\n",
    "        counter = counter +1\n",
    "        if intervalCounter ==0: interval = 192\n",
    "        else: interval = desiredInterval\n",
    "        # avg temperatures for each n rows\n",
    "        if counter % interval == 0:\n",
    "            avg = total / counter \n",
    "            avgs.append(avg)\n",
    "            avg = 0\n",
    "            counter = 0\n",
    "            total = 0 \n",
    "        intervalCounter = intervalCounter  +1\n",
    "    if isAscending:\n",
    "        return pd.DataFrame(quickSort(avgs, ascending=True))\n",
    "    return pd.DataFrame(quickSort(avgs, ascending=False))"
   ]
  },
  {
   "cell_type": "code",
   "execution_count": 5,
   "metadata": {},
   "outputs": [],
   "source": [
    "# avg of avg backflows (last column in provided excel sheet)\n",
    "def getAvgAvgBackflows(avgBackflows, interval, isAscending=True):\n",
    "    avgs = []\n",
    "    counter = 0\n",
    "    total = 0\n",
    "    for avgbackflow in avgBackflows:\n",
    "        total = total + avgbackflow\n",
    "        counter = counter +1\n",
    "        # avg for each 2 avg backflows\n",
    "        if counter % interval == 0:\n",
    "            avg = total / counter \n",
    "            #avgs.append(str(avg*100)+\"%\")\n",
    "            avgs.append(avg)\n",
    "            avg = 0\n",
    "            counter = 0\n",
    "            total =0\n",
    "    if isAscending:\n",
    "        return pd.DataFrame(quickSort(avgs, ascending=True))\n",
    "    return pd.DataFrame(quickSort(avgs, ascending=False))"
   ]
  },
  {
   "cell_type": "code",
   "execution_count": 6,
   "metadata": {
    "scrolled": true
   },
   "outputs": [],
   "source": [
    "# plot data on scatter plot\n",
    "def scatterPlotData(data, label, color):\n",
    "    y = np.array(data)\n",
    "    x = np.array(range(0, len(data)))\n",
    "    plt.scatter(x, y, c=color)\n",
    "    plt.xlabel(\"Avg at each interval\")\n",
    "    plt.ylabel(label)\n",
    "    plt.show()"
   ]
  },
  {
   "cell_type": "code",
   "execution_count": 13,
   "metadata": {},
   "outputs": [],
   "source": [
    "# get avg data for each 100 rows\n",
    "\n",
    "avgtemps = getAvgData(df['Temp'], 99, isAscending=True)\n",
    "avgpressure = getAvgData(df['Pressure'], 99, isAscending=True)\n",
    "avgbackflows = getAvgData(df['Backflow'], 99, isAscending=False)\n",
    "\n",
    "#scatterPlotData(avgpressure, \"Avg Pressure\", 'r')\n",
    "#scatterPlotData(avgtemps, \"Avg Temps\", 'g')\n",
    "#scatterPlotData(avgbackflows, \"Avg Backflows\", 'b')\n"
   ]
  },
  {
   "cell_type": "code",
   "execution_count": 14,
   "metadata": {
    "scrolled": true
   },
   "outputs": [
    {
     "data": {
      "text/html": [
       "<div>\n",
       "<style scoped>\n",
       "    .dataframe tbody tr th:only-of-type {\n",
       "        vertical-align: middle;\n",
       "    }\n",
       "\n",
       "    .dataframe tbody tr th {\n",
       "        vertical-align: top;\n",
       "    }\n",
       "\n",
       "    .dataframe thead tr th {\n",
       "        text-align: left;\n",
       "    }\n",
       "</style>\n",
       "<table border=\"1\" class=\"dataframe\">\n",
       "  <thead>\n",
       "    <tr>\n",
       "      <th></th>\n",
       "      <th colspan=\"3\" halign=\"left\">0</th>\n",
       "    </tr>\n",
       "    <tr>\n",
       "      <th></th>\n",
       "      <th>Avg Temps</th>\n",
       "      <th>Avg Pressure</th>\n",
       "      <th>Avg Backflow</th>\n",
       "    </tr>\n",
       "  </thead>\n",
       "  <tbody>\n",
       "    <tr>\n",
       "      <th>0</th>\n",
       "      <td>-0.409798</td>\n",
       "      <td>-5.148586</td>\n",
       "      <td>23.927475</td>\n",
       "    </tr>\n",
       "    <tr>\n",
       "      <th>1</th>\n",
       "      <td>-0.053333</td>\n",
       "      <td>-2.255152</td>\n",
       "      <td>23.438485</td>\n",
       "    </tr>\n",
       "    <tr>\n",
       "      <th>2</th>\n",
       "      <td>-0.016061</td>\n",
       "      <td>-1.402323</td>\n",
       "      <td>2.951515</td>\n",
       "    </tr>\n",
       "    <tr>\n",
       "      <th>3</th>\n",
       "      <td>0.040404</td>\n",
       "      <td>-0.792323</td>\n",
       "      <td>1.447172</td>\n",
       "    </tr>\n",
       "    <tr>\n",
       "      <th>4</th>\n",
       "      <td>0.061212</td>\n",
       "      <td>-0.136768</td>\n",
       "      <td>0.472222</td>\n",
       "    </tr>\n",
       "    <tr>\n",
       "      <th>5</th>\n",
       "      <td>0.077475</td>\n",
       "      <td>0.464242</td>\n",
       "      <td>-0.521616</td>\n",
       "    </tr>\n",
       "    <tr>\n",
       "      <th>6</th>\n",
       "      <td>0.078182</td>\n",
       "      <td>1.128283</td>\n",
       "      <td>-0.738485</td>\n",
       "    </tr>\n",
       "    <tr>\n",
       "      <th>7</th>\n",
       "      <td>0.100505</td>\n",
       "      <td>2.130707</td>\n",
       "      <td>-2.314646</td>\n",
       "    </tr>\n",
       "    <tr>\n",
       "      <th>8</th>\n",
       "      <td>0.110000</td>\n",
       "      <td>3.596768</td>\n",
       "      <td>-3.187374</td>\n",
       "    </tr>\n",
       "    <tr>\n",
       "      <th>9</th>\n",
       "      <td>0.200909</td>\n",
       "      <td>7.925253</td>\n",
       "      <td>-4.052828</td>\n",
       "    </tr>\n",
       "  </tbody>\n",
       "</table>\n",
       "</div>"
      ],
      "text/plain": [
       "          0                          \n",
       "  Avg Temps Avg Pressure Avg Backflow\n",
       "0 -0.409798    -5.148586    23.927475\n",
       "1 -0.053333    -2.255152    23.438485\n",
       "2 -0.016061    -1.402323     2.951515\n",
       "3  0.040404    -0.792323     1.447172\n",
       "4  0.061212    -0.136768     0.472222\n",
       "5  0.077475     0.464242    -0.521616\n",
       "6  0.078182     1.128283    -0.738485\n",
       "7  0.100505     2.130707    -2.314646\n",
       "8  0.110000     3.596768    -3.187374\n",
       "9  0.200909     7.925253    -4.052828"
      ]
     },
     "execution_count": 14,
     "metadata": {},
     "output_type": "execute_result"
    }
   ],
   "source": [
    "dfconcat = pd.concat([avgtemps, avgpressure, avgbackflows],axis='columns', keys=['Avg Temps', 'Avg Pressure', 'Avg Backflow'])\n",
    "df_data = dfconcat.swaplevel(axis='columns')\n",
    "df_data"
   ]
  },
  {
   "cell_type": "code",
   "execution_count": 15,
   "metadata": {
    "scrolled": true
   },
   "outputs": [
    {
     "data": {
      "text/html": [
       "<div>\n",
       "<style scoped>\n",
       "    .dataframe tbody tr th:only-of-type {\n",
       "        vertical-align: middle;\n",
       "    }\n",
       "\n",
       "    .dataframe tbody tr th {\n",
       "        vertical-align: top;\n",
       "    }\n",
       "\n",
       "    .dataframe thead tr th {\n",
       "        text-align: left;\n",
       "    }\n",
       "</style>\n",
       "<table border=\"1\" class=\"dataframe\">\n",
       "  <thead>\n",
       "    <tr>\n",
       "      <th></th>\n",
       "      <th>0</th>\n",
       "    </tr>\n",
       "    <tr>\n",
       "      <th></th>\n",
       "      <th>Avg Avg Backflow</th>\n",
       "    </tr>\n",
       "  </thead>\n",
       "  <tbody>\n",
       "    <tr>\n",
       "      <th>0</th>\n",
       "      <td>-3.620101</td>\n",
       "    </tr>\n",
       "    <tr>\n",
       "      <th>1</th>\n",
       "      <td>-1.526566</td>\n",
       "    </tr>\n",
       "    <tr>\n",
       "      <th>2</th>\n",
       "      <td>-0.024697</td>\n",
       "    </tr>\n",
       "    <tr>\n",
       "      <th>3</th>\n",
       "      <td>2.199343</td>\n",
       "    </tr>\n",
       "    <tr>\n",
       "      <th>4</th>\n",
       "      <td>23.682980</td>\n",
       "    </tr>\n",
       "  </tbody>\n",
       "</table>\n",
       "</div>"
      ],
      "text/plain": [
       "                 0\n",
       "  Avg Avg Backflow\n",
       "0        -3.620101\n",
       "1        -1.526566\n",
       "2        -0.024697\n",
       "3         2.199343\n",
       "4        23.682980"
      ]
     },
     "execution_count": 15,
     "metadata": {},
     "output_type": "execute_result"
    }
   ],
   "source": [
    "# avg of avg backflow\n",
    "dfconcat = pd.concat([getAvgAvgBackflows(avgbackflows.values, 2)],axis='columns', keys=['Avg Avg Backflow'])\n",
    "df_avgAvgBF = dfconcat.swaplevel(axis='columns')\n",
    "df_avgAvgBF"
   ]
  },
  {
   "cell_type": "code",
   "execution_count": 97,
   "metadata": {},
   "outputs": [
    {
     "name": "stdout",
     "output_type": "stream",
     "text": [
      "AVG Backflow (D2 to D192 in the excel sheet) =  13.017473684210522\n",
      "AVG Backflow (D101 to D200 in the excel sheet) =  1.202399999999999\n",
      "AVG Backflow (D201 to D300 in the excel sheet) =  -3.744000000000001\n",
      "AVG Backflow (D301 to D400 in the excel sheet) =  -0.9768000000000001\n",
      "AVG Backflow (D401 to D500 in the excel sheet) =  3.125199999999999\n",
      "AVG Backflow (D501 to D600 in the excel sheet) =  -2.8387000000000007\n",
      "AVG Backflow (D601 to D700 in the excel sheet) =  -0.2355999999999999\n",
      "AVG Backflow (D701 to D800 in the excel sheet) =  -1.6634000000000042\n",
      "AVG Backflow (D801 to D900 in the excel sheet) =  -1.1704\n",
      "AVG Backflow (D100 to D901 in the excel sheet) =  -0.7566916354556803\n"
     ]
    }
   ],
   "source": [
    "#Replicate data in Excel sheet\n",
    "total =0\n",
    "i =0\n",
    "avgs = []\n",
    "restofdata =[]\n",
    "testdata=[]\n",
    "# replicate first backflow avg ()\n",
    "for temp in df['Backflow']:\n",
    "    total = total + float(temp.split(\"%\")[0])\n",
    "    i = i+1\n",
    "    if i == 190: \n",
    "        avgs.append(total/i)\n",
    "        total =0\n",
    "    if i > 99:\n",
    "        restofdata.append(float(temp.split(\"%\")[0]))\n",
    "    if i > 98: \n",
    "        testdata.append(float(temp.split(\"%\")[0]))\n",
    "j =0\n",
    "total =0\n",
    "for data in restofdata:\n",
    "    total = total + data\n",
    "    j = j+1\n",
    "    if j % 100 ==0:\n",
    "        avgs.append(total/100)\n",
    "        total =0\n",
    "k =0\n",
    "total=0\n",
    "for d in testdata:\n",
    "    total = total + d\n",
    "    k = k+1\n",
    "    if k == 801:\n",
    "        avgs.append(total/801)\n",
    "\n",
    "print(\"AVG Backflow (D2 to D192 in the excel sheet) =  \" + str(avgs[0]))\n",
    "print(\"AVG Backflow (D101 to D200 in the excel sheet) =  \" + str(avgs[1]))\n",
    "print(\"AVG Backflow (D201 to D300 in the excel sheet) =  \" + str(avgs[2]))\n",
    "print(\"AVG Backflow (D301 to D400 in the excel sheet) =  \" + str(avgs[3]))\n",
    "print(\"AVG Backflow (D401 to D500 in the excel sheet) =  \" + str(avgs[4]))\n",
    "print(\"AVG Backflow (D501 to D600 in the excel sheet) =  \" + str(avgs[5]))\n",
    "print(\"AVG Backflow (D601 to D700 in the excel sheet) =  \" + str(avgs[6]))\n",
    "print(\"AVG Backflow (D701 to D800 in the excel sheet) =  \" + str(avgs[7]))\n",
    "print(\"AVG Backflow (D801 to D900 in the excel sheet) =  \" + str(avgs[8]))\n",
    "print(\"AVG Backflow (D100 to D901 in the excel sheet) =  \" + str(avgs[len(avgs)-1]))\n",
    "\n",
    "\n",
    "f2f7 = (avgs[0] + avgs[1] = avgs[2] + avgs[3] + avgs[4] )/5\n",
    "\n",
    "print(\"F2 to F7 in the excel sheet =  \" + \n",
    "\n"
   ]
  },
  {
   "cell_type": "code",
   "execution_count": null,
   "metadata": {},
   "outputs": [],
   "source": []
  }
 ],
 "metadata": {
  "kernelspec": {
   "display_name": "Python 3",
   "language": "python",
   "name": "python3"
  },
  "language_info": {
   "codemirror_mode": {
    "name": "ipython",
    "version": 3
   },
   "file_extension": ".py",
   "mimetype": "text/x-python",
   "name": "python",
   "nbconvert_exporter": "python",
   "pygments_lexer": "ipython3",
   "version": "3.7.6"
  },
  "metadata": {
   "interpreter": {
    "hash": "266427041442926d17ed610598b4a3a84a45a6374e4ff7ede5ec83c918e0c006"
   }
  }
 },
 "nbformat": 4,
 "nbformat_minor": 2
}
