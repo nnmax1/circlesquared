{
 "cells": [
  {
   "cell_type": "code",
   "execution_count": 101,
   "metadata": {},
   "outputs": [],
   "source": [
    "# What affects backflow the most: temperature or pressure\n",
    "import pandas as pd\n",
    "import matplotlib.pyplot as plt\n",
    "import numpy as np"
   ]
  },
  {
   "cell_type": "code",
   "execution_count": 102,
   "metadata": {
    "scrolled": true
   },
   "outputs": [],
   "source": [
    "# get all csv and store as pandas dataframe\n",
    "chunk = pd.read_csv('../data/backflow_data.csv',chunksize=1001, sep=\",\")\n",
    "pd_df = pd.concat(chunk)\n",
    "df = pd.DataFrame(pd_df)"
   ]
  },
  {
   "cell_type": "code",
   "execution_count": 103,
   "metadata": {},
   "outputs": [],
   "source": [
    "# return avgs of data for each interval\n",
    "def getAvgData(data, interval):\n",
    "    avgs = []\n",
    "    counter = 0\n",
    "    total = 0\n",
    "    for temp in data:\n",
    "        total = total + float(temp.split(\"%\")[0])\n",
    "        counter = counter +1\n",
    "        # avg temperatures for each n rows\n",
    "        if counter % interval == 0:\n",
    "            avg = total / counter \n",
    "            #avgs.append(str(avg*100)+\"%\")\n",
    "            avgs.append(avg)\n",
    "            avg = 0\n",
    "            counter = 0\n",
    "            total =0\n",
    "    return pd.DataFrame(avgs)"
   ]
  },
  {
   "cell_type": "code",
   "execution_count": 104,
   "metadata": {},
   "outputs": [],
   "source": [
    "# avg of avg backflows (last column in provided excel sheet)\n",
    "def getAvgAvgBackflows(avgBackflows, interval):\n",
    "    avgs = []\n",
    "    counter = 0\n",
    "    total = 0\n",
    "    for avgbackflow in avgBackflows:\n",
    "        total = total + avgbackflow\n",
    "        counter = counter +1\n",
    "        # avg for each 2 avg backflows\n",
    "        if counter % interval == 0:\n",
    "            avg = total / counter \n",
    "            #avgs.append(str(avg*100)+\"%\")\n",
    "            avgs.append(avg)\n",
    "            avg = 0\n",
    "            counter = 0\n",
    "            total =0\n",
    "    return pd.DataFrame(avgs)"
   ]
  },
  {
   "cell_type": "code",
   "execution_count": 105,
   "metadata": {
    "scrolled": true
   },
   "outputs": [],
   "source": [
    "# plot data on scatter plot\n",
    "def scatterPlotData(data, label, color):\n",
    "    y = np.array(data)\n",
    "    x = np.array(range(0, len(data)))\n",
    "    plt.scatter(x, y, c=color)\n",
    "    plt.xlabel(\"Avg at each interval\")\n",
    "    plt.ylabel(label)\n",
    "    plt.show()"
   ]
  },
  {
   "cell_type": "code",
   "execution_count": 106,
   "metadata": {},
   "outputs": [
    {
     "data": {
      "image/png": "[encoded data removed]",
      "text/plain": [
       "<Figure size 432x288 with 1 Axes>"
      ]
     },
     "metadata": {
      "needs_background": "light"
     },
     "output_type": "display_data"
    },
    {
     "data": {
      "image/png": "[encoded data removed]",
      "text/plain": [
       "<Figure size 432x288 with 1 Axes>"
      ]
     },
     "metadata": {
      "needs_background": "light"
     },
     "output_type": "display_data"
    },
    {
     "data": {
      "image/png": "[encoded data removed]",
      "text/plain": [
       "<Figure size 432x288 with 1 Axes>"
      ]
     },
     "metadata": {
      "needs_background": "light"
     },
     "output_type": "display_data"
    }
   ],
   "source": [
    "# get avg data for each 100 rows\n",
    "avgtemps = getAvgData(df['Temp'], 100)\n",
    "avgpressure = getAvgData(df['Pressure'], 100)\n",
    "avgbackflows = getAvgData(df['Backflow'], 100)\n",
    "\n",
    "scatterPlotData(avgpressure, \"Avg Pressure\", 'r')\n",
    "scatterPlotData(avgtemps, \"Avg Temps\", 'g')\n",
    "scatterPlotData(avgbackflows, \"Avg Backflows\", 'b')"
   ]
  },
  {
   "cell_type": "code",
   "execution_count": 107,
   "metadata": {
    "scrolled": true
   },
   "outputs": [
    {
     "data": {
      "text/html": [
       "<div>\n",
       "<style scoped>\n",
       "    .dataframe tbody tr th:only-of-type {\n",
       "        vertical-align: middle;\n",
       "    }\n",
       "\n",
       "    .dataframe tbody tr th {\n",
       "        vertical-align: top;\n",
       "    }\n",
       "\n",
       "    .dataframe thead tr th {\n",
       "        text-align: left;\n",
       "    }\n",
       "</style>\n",
       "<table border=\"1\" class=\"dataframe\">\n",
       "  <thead>\n",
       "    <tr>\n",
       "      <th></th>\n",
       "      <th colspan=\"3\" halign=\"left\">0</th>\n",
       "    </tr>\n",
       "    <tr>\n",
       "      <th></th>\n",
       "      <th>Avg Temps</th>\n",
       "      <th>Avg Pressure</th>\n",
       "      <th>Avg Backflow</th>\n",
       "    </tr>\n",
       "  </thead>\n",
       "  <tbody>\n",
       "    <tr>\n",
       "      <th>0</th>\n",
       "      <td>-0.4045</td>\n",
       "      <td>-5.1259</td>\n",
       "      <td>23.6335</td>\n",
       "    </tr>\n",
       "    <tr>\n",
       "      <th>1</th>\n",
       "      <td>-0.0144</td>\n",
       "      <td>-2.2378</td>\n",
       "      <td>1.1157</td>\n",
       "    </tr>\n",
       "    <tr>\n",
       "      <th>2</th>\n",
       "      <td>0.0983</td>\n",
       "      <td>-1.3873</td>\n",
       "      <td>-3.4866</td>\n",
       "    </tr>\n",
       "    <tr>\n",
       "      <th>3</th>\n",
       "      <td>0.0748</td>\n",
       "      <td>-0.7699</td>\n",
       "      <td>-1.3941</td>\n",
       "    </tr>\n",
       "    <tr>\n",
       "      <th>4</th>\n",
       "      <td>0.1185</td>\n",
       "      <td>-0.1054</td>\n",
       "      <td>3.3105</td>\n",
       "    </tr>\n",
       "    <tr>\n",
       "      <th>5</th>\n",
       "      <td>0.0838</td>\n",
       "      <td>0.4918</td>\n",
       "      <td>-2.7305</td>\n",
       "    </tr>\n",
       "    <tr>\n",
       "      <th>6</th>\n",
       "      <td>0.0389</td>\n",
       "      <td>1.1837</td>\n",
       "      <td>-0.4872</td>\n",
       "    </tr>\n",
       "    <tr>\n",
       "      <th>7</th>\n",
       "      <td>0.1913</td>\n",
       "      <td>2.2197</td>\n",
       "      <td>-1.4477</td>\n",
       "    </tr>\n",
       "    <tr>\n",
       "      <th>8</th>\n",
       "      <td>0.0705</td>\n",
       "      <td>3.7873</td>\n",
       "      <td>-1.0548</td>\n",
       "    </tr>\n",
       "    <tr>\n",
       "      <th>9</th>\n",
       "      <td>-0.1087</td>\n",
       "      <td>9.4096</td>\n",
       "      <td>28.2756</td>\n",
       "    </tr>\n",
       "  </tbody>\n",
       "</table>\n",
       "</div>"
      ],
      "text/plain": [
       "          0                          \n",
       "  Avg Temps Avg Pressure Avg Backflow\n",
       "0   -0.4045      -5.1259      23.6335\n",
       "1   -0.0144      -2.2378       1.1157\n",
       "2    0.0983      -1.3873      -3.4866\n",
       "3    0.0748      -0.7699      -1.3941\n",
       "4    0.1185      -0.1054       3.3105\n",
       "5    0.0838       0.4918      -2.7305\n",
       "6    0.0389       1.1837      -0.4872\n",
       "7    0.1913       2.2197      -1.4477\n",
       "8    0.0705       3.7873      -1.0548\n",
       "9   -0.1087       9.4096      28.2756"
      ]
     },
     "execution_count": 107,
     "metadata": {},
     "output_type": "execute_result"
    }
   ],
   "source": [
    "dfconcat = pd.concat([avgtemps, avgpressure, avgbackflows],axis='columns', keys=['Avg Temps', 'Avg Pressure', 'Avg Backflow'])\n",
    "df_data = dfconcat.swaplevel(axis='columns')\n",
    "df_data"
   ]
  },
  {
   "cell_type": "code",
   "execution_count": 109,
   "metadata": {
    "scrolled": true
   },
   "outputs": [
    {
     "name": "stdout",
     "output_type": "stream",
     "text": [
      "[23.6335]\n",
      "[1.1157]\n",
      "[-3.4866]\n",
      "[-1.3941]\n",
      "[3.3105]\n",
      "[-2.7305]\n",
      "[-0.4872]\n",
      "[-1.4477]\n",
      "[-1.0548]\n",
      "[28.2756]\n"
     ]
    },
    {
     "data": {
      "text/html": [
       "<div>\n",
       "<style scoped>\n",
       "    .dataframe tbody tr th:only-of-type {\n",
       "        vertical-align: middle;\n",
       "    }\n",
       "\n",
       "    .dataframe tbody tr th {\n",
       "        vertical-align: top;\n",
       "    }\n",
       "\n",
       "    .dataframe thead tr th {\n",
       "        text-align: left;\n",
       "    }\n",
       "</style>\n",
       "<table border=\"1\" class=\"dataframe\">\n",
       "  <thead>\n",
       "    <tr>\n",
       "      <th></th>\n",
       "      <th>0</th>\n",
       "    </tr>\n",
       "    <tr>\n",
       "      <th></th>\n",
       "      <th>Avg Avg Backflow</th>\n",
       "    </tr>\n",
       "  </thead>\n",
       "  <tbody>\n",
       "    <tr>\n",
       "      <th>0</th>\n",
       "      <td>12.37460</td>\n",
       "    </tr>\n",
       "    <tr>\n",
       "      <th>1</th>\n",
       "      <td>-2.44035</td>\n",
       "    </tr>\n",
       "    <tr>\n",
       "      <th>2</th>\n",
       "      <td>0.29000</td>\n",
       "    </tr>\n",
       "    <tr>\n",
       "      <th>3</th>\n",
       "      <td>-0.96745</td>\n",
       "    </tr>\n",
       "    <tr>\n",
       "      <th>4</th>\n",
       "      <td>13.61040</td>\n",
       "    </tr>\n",
       "  </tbody>\n",
       "</table>\n",
       "</div>"
      ],
      "text/plain": [
       "                 0\n",
       "  Avg Avg Backflow\n",
       "0         12.37460\n",
       "1         -2.44035\n",
       "2          0.29000\n",
       "3         -0.96745\n",
       "4         13.61040"
      ]
     },
     "execution_count": 109,
     "metadata": {},
     "output_type": "execute_result"
    }
   ],
   "source": [
    "# avg of avg backflow\n",
    "dfconcat = pd.concat([getAvgAvgBackflows(avgbackflows.values, 2)],axis='columns', keys=['Avg Avg Backflow'])\n",
    "df_avgAvgBF = dfconcat.swaplevel(axis='columns')\n",
    "df_avgAvgBF"
   ]
  }
 ],
 "metadata": {
  "kernelspec": {
   "display_name": "Python 3",
   "language": "python",
   "name": "python3"
  },
  "language_info": {
   "codemirror_mode": {
    "name": "ipython",
    "version": 3
   },
   "file_extension": ".py",
   "mimetype": "text/x-python",
   "name": "python",
   "nbconvert_exporter": "python",
   "pygments_lexer": "ipython3",
   "version": "3.8.5"
  },
  "metadata": {
   "interpreter": {
    "hash": "266427041442926d17ed610598b4a3a84a45a6374e4ff7ede5ec83c918e0c006"
   }
  }
 },
 "nbformat": 4,
 "nbformat_minor": 2
}
