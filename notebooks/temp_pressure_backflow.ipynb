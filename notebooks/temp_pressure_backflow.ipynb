{
 "cells": [
  {
   "cell_type": "code",
   "execution_count": 1,
   "metadata": {},
   "outputs": [],
   "source": [
    "# What affects backflow the most: temperature or pressure\n",
    "import pandas as pd\n",
    "import matplotlib.pyplot as plt\n",
    "import numpy as np\n",
    "import random"
   ]
  },
  {
   "cell_type": "code",
   "execution_count": 2,
   "metadata": {
    "scrolled": true
   },
   "outputs": [],
   "source": [
    "# get all csv and store as pandas dataframe\n",
    "chunk = pd.read_csv('../data/backflow_data.csv',chunksize=1001, sep=\",\")\n",
    "pd_df = pd.concat(chunk)\n",
    "df = pd.DataFrame(pd_df)"
   ]
  },
  {
   "cell_type": "code",
   "execution_count": 3,
   "metadata": {},
   "outputs": [],
   "source": [
    "# quick sort implementation\n",
    "def quickSort(arr, ascending=True):\n",
    "    if arr == []:\n",
    "        return arr\n",
    "    smaller, equal, larger = [], [], []\n",
    "    pivot = arr[random.randint(0, len(arr) - 1)]\n",
    "    for x in arr:\n",
    "        if x < pivot: smaller.append(x)\n",
    "        elif x == pivot: equal.append(x)\n",
    "        else: larger.append(x)\n",
    "    larger = quickSort(larger, ascending=ascending)\n",
    "    smaller = quickSort(smaller, ascending=ascending)\n",
    "    if ascending:\n",
    "        final = smaller + equal + larger\n",
    "    else:\n",
    "        final = larger + equal + smaller\n",
    "    return final"
   ]
  },
  {
   "cell_type": "code",
   "execution_count": 4,
   "metadata": {},
   "outputs": [],
   "source": [
    "# return avgs of data for each interval\n",
    "# adjusted to replicate data from spreadsheet\n",
    "def getAvgData(data, interval, isAscending=True):\n",
    "    avgs = []\n",
    "    desiredInterval = interval\n",
    "    counter=0\n",
    "    intervalCounter = 0\n",
    "    total = 0\n",
    "    for temp in data:\n",
    "        total = total + float(temp.split(\"%\")[0])\n",
    "        counter = counter +1\n",
    "        if intervalCounter ==0: interval = 192\n",
    "        else: interval = desiredInterval\n",
    "        # avg temperatures for each n rows\n",
    "        if counter % interval == 0:\n",
    "            avg = total / counter \n",
    "            avgs.append(avg)\n",
    "            avg = 0\n",
    "            counter = 0\n",
    "            total = 0 \n",
    "        intervalCounter = intervalCounter  +1\n",
    "    if isAscending:\n",
    "        return pd.DataFrame(quickSort(avgs, ascending=True))\n",
    "    return pd.DataFrame(quickSort(avgs, ascending=False))"
   ]
  },
  {
   "cell_type": "code",
   "execution_count": 5,
   "metadata": {},
   "outputs": [],
   "source": [
    "# avg of avg backflows (last column in provided excel sheet)\n",
    "def getAvgAvgBackflows(avgBackflows, interval, isAscending=True):\n",
    "    avgs = []\n",
    "    counter = 0\n",
    "    total = 0\n",
    "    for avgbackflow in avgBackflows:\n",
    "        total = total + avgbackflow\n",
    "        counter = counter +1\n",
    "        # avg for each 2 avg backflows\n",
    "        if counter % interval == 0:\n",
    "            avg = total / counter \n",
    "            #avgs.append(str(avg*100)+\"%\")\n",
    "            avgs.append(avg)\n",
    "            avg = 0\n",
    "            counter = 0\n",
    "            total =0\n",
    "    if isAscending:\n",
    "        return pd.DataFrame(quickSort(avgs, ascending=True))\n",
    "    return pd.DataFrame(quickSort(avgs, ascending=False))"
   ]
  },
  {
   "cell_type": "code",
   "execution_count": 6,
   "metadata": {
    "scrolled": true
   },
   "outputs": [],
   "source": [
    "# plot data on scatter plot\n",
    "def scatterPlotData(data, label, color):\n",
    "    y = np.array(data)\n",
    "    x = np.array(range(0, len(data)))\n",
    "    plt.scatter(x, y, c=color)\n",
    "    plt.xlabel(\"Avg at each interval\")\n",
    "    plt.ylabel(label)\n",
    "    plt.show()"
   ]
  },
  {
   "cell_type": "code",
   "execution_count": 13,
   "metadata": {},
   "outputs": [],
   "source": [
    "# get avg data for each 100 rows\n",
    "\n",
    "avgtemps = getAvgData(df['Temp'], 99, isAscending=True)\n",
    "avgpressure = getAvgData(df['Pressure'], 99, isAscending=True)\n",
    "avgbackflows = getAvgData(df['Backflow'], 99, isAscending=False)\n",
    "\n",
    "#scatterPlotData(avgpressure, \"Avg Pressure\", 'r')\n",
    "#scatterPlotData(avgtemps, \"Avg Temps\", 'g')\n",
    "#scatterPlotData(avgbackflows, \"Avg Backflows\", 'b')\n"
   ]
  },
  {
   "cell_type": "code",
   "execution_count": 14,
   "metadata": {
    "scrolled": true
   },
   "outputs": [
    {
     "data": {
      "text/html": [
       "<div>\n",
       "<style scoped>\n",
       "    .dataframe tbody tr th:only-of-type {\n",
       "        vertical-align: middle;\n",
       "    }\n",
       "\n",
       "    .dataframe tbody tr th {\n",
       "        vertical-align: top;\n",
       "    }\n",
       "\n",
       "    .dataframe thead tr th {\n",
       "        text-align: left;\n",
       "    }\n",
       "</style>\n",
       "<table border=\"1\" class=\"dataframe\">\n",
       "  <thead>\n",
       "    <tr>\n",
       "      <th></th>\n",
       "      <th colspan=\"3\" halign=\"left\">0</th>\n",
       "    </tr>\n",
       "    <tr>\n",
       "      <th></th>\n",
       "      <th>Avg Temps</th>\n",
       "      <th>Avg Pressure</th>\n",
       "      <th>Avg Backflow</th>\n",
       "    </tr>\n",
       "  </thead>\n",
       "  <tbody>\n",
       "    <tr>\n",
       "      <th>0</th>\n",
       "      <td>-0.409798</td>\n",
       "      <td>-5.148586</td>\n",
       "      <td>23.927475</td>\n",
       "    </tr>\n",
       "    <tr>\n",
       "      <th>1</th>\n",
       "      <td>-0.053333</td>\n",
       "      <td>-2.255152</td>\n",
       "      <td>23.438485</td>\n",
       "    </tr>\n",
       "    <tr>\n",
       "      <th>2</th>\n",
       "      <td>-0.016061</td>\n",
       "      <td>-1.402323</td>\n",
       "      <td>2.951515</td>\n",
       "    </tr>\n",
       "    <tr>\n",
       "      <th>3</th>\n",
       "      <td>0.040404</td>\n",
       "      <td>-0.792323</td>\n",
       "      <td>1.447172</td>\n",
       "    </tr>\n",
       "    <tr>\n",
       "      <th>4</th>\n",
       "      <td>0.061212</td>\n",
       "      <td>-0.136768</td>\n",
       "      <td>0.472222</td>\n",
       "    </tr>\n",
       "    <tr>\n",
       "      <th>5</th>\n",
       "      <td>0.077475</td>\n",
       "      <td>0.464242</td>\n",
       "      <td>-0.521616</td>\n",
       "    </tr>\n",
       "    <tr>\n",
       "      <th>6</th>\n",
       "      <td>0.078182</td>\n",
       "      <td>1.128283</td>\n",
       "      <td>-0.738485</td>\n",
       "    </tr>\n",
       "    <tr>\n",
       "      <th>7</th>\n",
       "      <td>0.100505</td>\n",
       "      <td>2.130707</td>\n",
       "      <td>-2.314646</td>\n",
       "    </tr>\n",
       "    <tr>\n",
       "      <th>8</th>\n",
       "      <td>0.110000</td>\n",
       "      <td>3.596768</td>\n",
       "      <td>-3.187374</td>\n",
       "    </tr>\n",
       "    <tr>\n",
       "      <th>9</th>\n",
       "      <td>0.200909</td>\n",
       "      <td>7.925253</td>\n",
       "      <td>-4.052828</td>\n",
       "    </tr>\n",
       "  </tbody>\n",
       "</table>\n",
       "</div>"
      ],
      "text/plain": [
       "          0                          \n",
       "  Avg Temps Avg Pressure Avg Backflow\n",
       "0 -0.409798    -5.148586    23.927475\n",
       "1 -0.053333    -2.255152    23.438485\n",
       "2 -0.016061    -1.402323     2.951515\n",
       "3  0.040404    -0.792323     1.447172\n",
       "4  0.061212    -0.136768     0.472222\n",
       "5  0.077475     0.464242    -0.521616\n",
       "6  0.078182     1.128283    -0.738485\n",
       "7  0.100505     2.130707    -2.314646\n",
       "8  0.110000     3.596768    -3.187374\n",
       "9  0.200909     7.925253    -4.052828"
      ]
     },
     "execution_count": 14,
     "metadata": {},
     "output_type": "execute_result"
    }
   ],
   "source": [
    "dfconcat = pd.concat([avgtemps, avgpressure, avgbackflows],axis='columns', keys=['Avg Temps', 'Avg Pressure', 'Avg Backflow'])\n",
    "df_data = dfconcat.swaplevel(axis='columns')\n",
    "df_data"
   ]
  },
  {
   "cell_type": "code",
   "execution_count": 9,
   "metadata": {
    "scrolled": true
   },
   "outputs": [
    {
     "data": {
      "text/html": [
       "<div>\n",
       "<style scoped>\n",
       "    .dataframe tbody tr th:only-of-type {\n",
       "        vertical-align: middle;\n",
       "    }\n",
       "\n",
       "    .dataframe tbody tr th {\n",
       "        vertical-align: top;\n",
       "    }\n",
       "\n",
       "    .dataframe thead tr th {\n",
       "        text-align: left;\n",
       "    }\n",
       "</style>\n",
       "<table border=\"1\" class=\"dataframe\">\n",
       "  <thead>\n",
       "    <tr>\n",
       "      <th></th>\n",
       "      <th>0</th>\n",
       "    </tr>\n",
       "    <tr>\n",
       "      <th></th>\n",
       "      <th>Avg Avg Backflow</th>\n",
       "    </tr>\n",
       "  </thead>\n",
       "  <tbody>\n",
       "    <tr>\n",
       "      <th>0</th>\n",
       "      <td>-3.10855</td>\n",
       "    </tr>\n",
       "    <tr>\n",
       "      <th>1</th>\n",
       "      <td>-1.42090</td>\n",
       "    </tr>\n",
       "    <tr>\n",
       "      <th>2</th>\n",
       "      <td>-0.77100</td>\n",
       "    </tr>\n",
       "    <tr>\n",
       "      <th>3</th>\n",
       "      <td>2.21310</td>\n",
       "    </tr>\n",
       "    <tr>\n",
       "      <th>4</th>\n",
       "      <td>25.95455</td>\n",
       "    </tr>\n",
       "  </tbody>\n",
       "</table>\n",
       "</div>"
      ],
      "text/plain": [
       "                 0\n",
       "  Avg Avg Backflow\n",
       "0         -3.10855\n",
       "1         -1.42090\n",
       "2         -0.77100\n",
       "3          2.21310\n",
       "4         25.95455"
      ]
     },
     "execution_count": 9,
     "metadata": {},
     "output_type": "execute_result"
    }
   ],
   "source": [
    "# avg of avg backflow\n",
    "dfconcat = pd.concat([getAvgAvgBackflows(avgbackflows.values, 2)],axis='columns', keys=['Avg Avg Backflow'])\n",
    "df_avgAvgBF = dfconcat.swaplevel(axis='columns')\n",
    "df_avgAvgBF\n",
    "#Todo: Replicate data in Excel sheet"
   ]
  }
 ],
 "metadata": {
  "kernelspec": {
   "display_name": "Python 3",
   "language": "python",
   "name": "python3"
  },
  "language_info": {
   "codemirror_mode": {
    "name": "ipython",
    "version": 3
   },
   "file_extension": ".py",
   "mimetype": "text/x-python",
   "name": "python",
   "nbconvert_exporter": "python",
   "pygments_lexer": "ipython3",
   "version": "3.7.6"
  },
  "metadata": {
   "interpreter": {
    "hash": "266427041442926d17ed610598b4a3a84a45a6374e4ff7ede5ec83c918e0c006"
   }
  }
 },
 "nbformat": 4,
 "nbformat_minor": 2
}
