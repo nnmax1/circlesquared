{
 "cells": [
  {
   "cell_type": "code",
   "execution_count": 48,
   "metadata": {},
   "outputs": [],
   "source": [
    "# What affects backflow the most: temperature of pressure\n",
    "import pandas as pd\n",
    "import matplotlib.pyplot as plt\n",
    "import numpy as np"
   ]
  },
  {
   "cell_type": "code",
   "execution_count": 4,
   "metadata": {
    "scrolled": true
   },
   "outputs": [],
   "source": [
    "# get all csv and store as pandas dataframe\n",
    "chunk = pd.read_csv('../data/backflow_data.csv',chunksize=1001, sep=\",\")\n",
    "pd_df = pd.concat(chunk)\n",
    "df = pd.DataFrame(pd_df)"
   ]
  },
  {
   "cell_type": "code",
   "execution_count": 5,
   "metadata": {},
   "outputs": [],
   "source": [
    "# avg temps\n",
    "def getAvgTemps(df):\n",
    "    avgs = []\n",
    "    counter = 0\n",
    "    total = 0\n",
    "    for temp in df['Temp']:\n",
    "        total = total + float(temp.split(\"%\")[0])\n",
    "        counter = counter +1\n",
    "        # avg temperatures for each 150 rows\n",
    "        if counter % 100 == 0:\n",
    "            avg = total / counter \n",
    "            #avgs.append(str(avg*100)+\"%\")\n",
    "            avgs.append(avg)\n",
    "            avg = 0\n",
    "            counter = 0\n",
    "            total =0\n",
    "    return pd.DataFrame(avgs)"
   ]
  },
  {
   "cell_type": "code",
   "execution_count": 20,
   "metadata": {},
   "outputs": [],
   "source": [
    "# avg backflows\n",
    "def getAvgBackflows(df):\n",
    "    avgs = []\n",
    "    counter = 0\n",
    "    total = 0\n",
    "    for backflow in df['Backflow']:\n",
    "        total = total + float(backflow.split(\"%\")[0])\n",
    "        counter = counter +1\n",
    "        # avg backflow for each 100 rows\n",
    "        if counter % 100 == 0:\n",
    "            avg = total / counter \n",
    "            #avgs.append(str(avg*100)+\"%\")\n",
    "            avgs.append(avg)\n",
    "            avg = 0\n",
    "            counter = 0\n",
    "            total =0\n",
    "    return pd.DataFrame(avgs)"
   ]
  },
  {
   "cell_type": "code",
   "execution_count": 69,
   "metadata": {},
   "outputs": [],
   "source": [
    "# avg pressure\n",
    "def getAvgPressure(df):\n",
    "    avgs = []\n",
    "    counter = 0\n",
    "    total = 0\n",
    "    for backflow in df['Pressure']:\n",
    "        total = total + float(backflow.split(\"%\")[0])\n",
    "        counter = counter +1\n",
    "        # avg pressure for each 100 rows\n",
    "        if counter % 100 == 0:\n",
    "            avg = total / counter \n",
    "            #avgs.append(str(avg*100)+\"%\")\n",
    "            avgs.append(avg)\n",
    "            avg = 0\n",
    "            counter = 0\n",
    "            total =0\n",
    "    return pd.DataFrame(avgs)"
   ]
  },
  {
   "cell_type": "code",
   "execution_count": 71,
   "metadata": {},
   "outputs": [],
   "source": [
    "# avg of avg backflows (last column in provided excel sheet)\n",
    "def getAvgAvgBackflows(avgBackflows):\n",
    "    avgs = []\n",
    "    counter = 0\n",
    "    total = 0\n",
    "    for avgbackflow in avgBackflows:\n",
    "        total = total + avgbackflow\n",
    "        counter = counter +1\n",
    "        # avg for each 2 avg backflows\n",
    "        if counter % 2 == 0:\n",
    "            avg = total / counter \n",
    "            #avgs.append(str(avg*100)+\"%\")\n",
    "            avgs.append(avg)\n",
    "            avg = 0\n",
    "            counter = 0\n",
    "            total =0\n",
    "    return pd.DataFrame(avgs)"
   ]
  },
  {
   "cell_type": "code",
   "execution_count": 73,
   "metadata": {
    "scrolled": true
   },
   "outputs": [],
   "source": [
    "def scatterPlotData(data, label, color):\n",
    "    y = np.array(data)\n",
    "    x = np.array(range(0, len(data)))\n",
    "    plt.scatter(x, y, c=color)\n",
    "    plt.xlabel(\"x axis\")\n",
    "    plt.ylabel(label)\n",
    "    plt.show()"
   ]
  },
  {
   "cell_type": "code",
   "execution_count": 74,
   "metadata": {},
   "outputs": [
    {
     "data": {
      "image/png": "[encoded data removed]",
      "text/plain": [
       "<Figure size 432x288 with 1 Axes>"
      ]
     },
     "metadata": {
      "needs_background": "light"
     },
     "output_type": "display_data"
    },
    {
     "data": {
      "image/png": "[encoded data removed]",
      "text/plain": [
       "<Figure size 432x288 with 1 Axes>"
      ]
     },
     "metadata": {
      "needs_background": "light"
     },
     "output_type": "display_data"
    },
    {
     "data": {
      "image/png": "[encoded data removed]",
      "text/plain": [
       "<Figure size 432x288 with 1 Axes>"
      ]
     },
     "metadata": {
      "needs_background": "light"
     },
     "output_type": "display_data"
    }
   ],
   "source": [
    "avgtemps = getAvgTemps(df)\n",
    "avgpressure = getAvgPressure(df)\n",
    "avgbackflows = getAvgBackflows(df)\n",
    "avgAvgBackflows = getAvgAvgBackflows(avgbackflows)\n",
    "\n",
    "scatterPlotData(avgpressure, \"Avg Pressure\", 'r')\n",
    "scatterPlotData(avgtemps, \"Avg Temps\", 'g')\n",
    "scatterPlotData(avgbackflows, \"Avg Backflows\", 'b')"
   ]
  }
 ],
 "metadata": {
  "kernelspec": {
   "display_name": "Python 3",
   "language": "python",
   "name": "python3"
  },
  "language_info": {
   "codemirror_mode": {
    "name": "ipython",
    "version": 3
   },
   "file_extension": ".py",
   "mimetype": "text/x-python",
   "name": "python",
   "nbconvert_exporter": "python",
   "pygments_lexer": "ipython3",
   "version": "3.8.5"
  },
  "metadata": {
   "interpreter": {
    "hash": "266427041442926d17ed610598b4a3a84a45a6374e4ff7ede5ec83c918e0c006"
   }
  }
 },
 "nbformat": 4,
 "nbformat_minor": 2
}
