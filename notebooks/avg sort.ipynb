{
 "cells": [
  {
   "cell_type": "code",
   "execution_count": 36,
   "metadata": {},
   "outputs": [],
   "source": [
    "import pandas as pd\n",
    "import matplotlib.pyplot as plt\n",
    "import numpy as np\n",
    "import random\n",
    "# get data from backflowdata.csv\n",
    "chunk = pd.read_csv('../data/backflow_data.csv',chunksize=1001, sep=\",\")\n",
    "pd_df = pd.concat(chunk)\n",
    "df = pd.DataFrame(pd_df)\n",
    "data = df.values.tolist()\n",
    "\n",
    "\n",
    "def data_sort(arr, ascending, column):\n",
    "    col =0\n",
    "    if column=='t': col=1\n",
    "    elif column =='p':col=2\n",
    "    elif column=='b': col=3\n",
    "    n = len(arr)  \n",
    "    for i in range(n-1):  \n",
    "        for j in range(0, n-i-1):\n",
    "           # compare and swap if greater\n",
    "            if ascending:\n",
    "                if float(arr[j][col].split(\"%\")[0]) > float(arr[j + 1][col].split(\"%\")[0]) :\n",
    "                    arr[j], arr[j + 1] = arr[j + 1], arr[j]\n",
    "            if not ascending: \n",
    "                if float(arr[j][col].split(\"%\")[0]) < float(arr[j + 1][col].split(\"%\")[0]) :\n",
    "                    arr[j], arr[j + 1] = arr[j + 1], arr[j]\n",
    "                    \n"
   ]
  },
  {
   "cell_type": "code",
   "execution_count": 46,
   "metadata": {},
   "outputs": [],
   "source": [
    "# calculates the tsort, psort, bsort, and avesort given a dataset that includes temperature, \n",
    "# pressure, and backflow. \n",
    "def rank_sort(data):\n",
    "    psort =[]\n",
    "    tsort=[]\n",
    "    bsort=[]\n",
    "    aveSort =[]\n",
    "    # sort by temperatue, then insert 'sort rank' into tsort list\n",
    "    data_sort(data, ascending=True ,column='t')\n",
    "    for i  in range(0, len(data)):\n",
    "        tsort.append(data[i][0])\n",
    "    data_sort(data, ascending=True, column='p')\n",
    "    for j  in range(0, len(data)):\n",
    "        psort.append(data[j][0])\n",
    "    data_sort(data, ascending=True, column='b')\n",
    "    for k  in range(0, len(data)):\n",
    "        bsort.append(data[k][0])\n",
    "    for l in range(0, len(data)):\n",
    "        aveSort.append((tsort[l]+psort[l]+bsort[l])/3)\n",
    "        \n",
    "    result = {\"TSort\":tsort, \"psort\":psort,\"bsort\": bsort, \"aveSort\":aveSort}\n",
    "        \n",
    "\n",
    "    return result\n",
    "            \n",
    "    \n",
    "r = rank_sort(data)\n",
    "# print(r)"
   ]
  },
  {
   "cell_type": "code",
   "execution_count": null,
   "metadata": {},
   "outputs": [],
   "source": []
  },
  {
   "cell_type": "code",
   "execution_count": null,
   "metadata": {},
   "outputs": [],
   "source": []
  }
 ],
 "metadata": {
  "kernelspec": {
   "display_name": "Python 3",
   "language": "python",
   "name": "python3"
  },
  "language_info": {
   "codemirror_mode": {
    "name": "ipython",
    "version": 3
   },
   "file_extension": ".py",
   "mimetype": "text/x-python",
   "name": "python",
   "nbconvert_exporter": "python",
   "pygments_lexer": "ipython3",
   "version": "3.7.6"
  }
 },
 "nbformat": 4,
 "nbformat_minor": 4
}
